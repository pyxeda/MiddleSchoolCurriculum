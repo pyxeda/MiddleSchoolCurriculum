{
  "nbformat": 4,
  "nbformat_minor": 0,
  "metadata": {
    "colab": {
      "name": "RMSE_calculation.ipynb",
      "provenance": [],
      "collapsed_sections": []
    },
    "kernelspec": {
      "name": "python3",
      "display_name": "Python 3"
    },
    "language_info": {
      "name": "python"
    }
  },
  "cells": [
    {
      "cell_type": "markdown",
      "metadata": {
        "id": "12AF0VW73uP6"
      },
      "source": [
        "# **Problem:Calculate RMSE (Root Mean Squared Error)**\n",
        "\n",
        "Python program to calculate the RMSE, for given two lists. \n",
        "list _1 is actual labels and list_2 is AI predictions. \n",
        "\n",
        "Program calculates RMSE in 2 ways.\n",
        "1.   Without using libraries\n",
        "2.   Using libraries\n",
        "\n",
        "**Examples:**\n",
        "\n",
        "Input lists --> \n",
        "> actual_labels = [1, 2, 5, 2.3, 5, 4.6, 3.7]\n",
        "\n",
        "> ai_predictions = [-1, 4, 3, 4.3, 7, 2.6, 5.7] \n",
        "\n",
        "Output      -->\n",
        "> RMSE = 2\n",
        "\n",
        "\n",
        "**Notes:**\n",
        "\n",
        "*   Check whether you have given valid elements for the 2 lists.\n",
        "*   Check whether your lists are not empty.\n",
        "*   Check whether the two lists have same number of elements.\n",
        "\n",
        "\n",
        "\n",
        "\n",
        "\n",
        "\n",
        "\n"
      ]
    },
    {
      "cell_type": "code",
      "metadata": {
        "id": "5RCBQ8wKRmah"
      },
      "source": [
        "#@title MIT License\n",
        "\n",
        "# Copyright (c) 2021 AIClub\n",
        "\n",
        "# Permission is hereby granted, free of charge, to any person obtaining a copy of this software and associated \n",
        "# documentation files (the \"Software\"), to deal in the Software without restriction, including without \n",
        "# limitation the rights to use, copy, modify, merge, publish, distribute, sublicense, and/or sell copies of \n",
        "# the Software, and to permit persons to whom the Software is furnished to do so, subject to the following \n",
        "# conditions:\n",
        "\n",
        "# The above copyright notice and this permission notice shall be included in all copies or substantial\n",
        "# portions of the Software.\n",
        "\n",
        "# THE SOFTWARE IS PROVIDED \"AS IS\", WITHOUT WARRANTY OF ANY KIND, EXPRESS OR IMPLIED, INCLUDING BUT NOT \n",
        "# LIMITED TO THE WARRANTIES OF MERCHANTABILITY, FITNESS FOR A PARTICULAR PURPOSE AND NONINFRINGEMENT. IN NO \n",
        "# EVENT SHALL THE AUTHORS OR COPYRIGHT HOLDERS BE LIABLE FOR ANY CLAIM, DAMAGES OR OTHER LIABILITY, WHETHER IN \n",
        "# AN ACTION OF CONTRACT, TORT OR OTHERWISE, ARISING FROM, OUT OF OR IN CONNECTION WITH THE SOFTWARE OR THE USE \n",
        "# OR OTHER DEALINGS IN THE SOFTWARE."
      ],
      "execution_count": 1,
      "outputs": []
    },
    {
      "cell_type": "markdown",
      "metadata": {
        "id": "_eaNM-nI6lYI"
      },
      "source": [
        "# Input lists"
      ]
    },
    {
      "cell_type": "code",
      "metadata": {
        "id": "KE4Tptq56zH2"
      },
      "source": [
        "# Change the lists; 'actual_labels' and 'ai_predictions' as you needed\n",
        "\n",
        "# Actual labels\n",
        "actual_labels = [1, 2, 5, 2.3, 5, 4.6, 3.7]\n",
        "\n",
        "# Predicted labels   \n",
        "ai_predictions = [-1, 4, 3, 4.3, 7, 2.6, 5] "
      ],
      "execution_count": 2,
      "outputs": []
    },
    {
      "cell_type": "markdown",
      "metadata": {
        "id": "G93PWLSs60Sv"
      },
      "source": [
        "# RMSE calculation without using libraries"
      ]
    },
    {
      "cell_type": "code",
      "metadata": {
        "id": "RLXrjK9C67bG"
      },
      "source": [
        "# Initialise the variable to sum up all the squared errors\n",
        "squaredErrorSum = 0\n",
        "\n",
        "# Iterate through the each index of actual labels in the list 'labels'\n",
        "for label in range(len(actual_labels)):\n",
        "\n",
        "    # Calculate the error between actual label and predicted label           \n",
        "    error = actual_labels[label] - ai_predictions[label]\n",
        "\n",
        "    # Square the error found in above step\n",
        "    squareError = error**2\n",
        "\n",
        "    # Sum up the squared errors\n",
        "    squaredErrorSum += squareError\n",
        "\n",
        "# Calculate the mean square error \n",
        "mse_without_sklearn = squaredErrorSum / len(actual_labels)\n",
        "\n",
        "# Calculate the root mean square error \n",
        "rmse_without_sklearn = mse_without_sklearn ** 0.5\n",
        "\n",
        "# Print the rmse value\n",
        "print ('RMSE without using sklearn: ', rmse_without_sklearn)"
      ],
      "execution_count": null,
      "outputs": []
    },
    {
      "cell_type": "markdown",
      "metadata": {
        "id": "p3xXOMQv7B6N"
      },
      "source": [
        "# RMSE calculation using libraries"
      ]
    },
    {
      "cell_type": "markdown",
      "metadata": {
        "id": "SR8U7paA7IDy"
      },
      "source": [
        "Import modules"
      ]
    },
    {
      "cell_type": "code",
      "metadata": {
        "id": "0QaheJ2d7HTj"
      },
      "source": [
        "# Import mean_squared_error function for error calculations\n",
        "from sklearn.metrics import mean_squared_error \n",
        "\n",
        "# Import sqrt function to get the square root of the mean_squared_error\n",
        "from math import sqrt"
      ],
      "execution_count": 4,
      "outputs": []
    },
    {
      "cell_type": "markdown",
      "metadata": {
        "id": "9BTIz08g7Q1P"
      },
      "source": [
        "Calculate RMSE"
      ]
    },
    {
      "cell_type": "code",
      "metadata": {
        "id": "rTpstGyI7V57"
      },
      "source": [
        "# Calculate the mean squared error \n",
        "mse_using_sklearn = mean_squared_error(actual_labels, ai_predictions)\n",
        "\n",
        "# Calculate the root mean squared error \n",
        "rmse_using_sklearn = sqrt(mse_using_sklearn)\n",
        "\n",
        "# Print the rmse value\n",
        "print ('RMSE using sklearn: ', rmse_using_sklearn)"
      ],
      "execution_count": null,
      "outputs": []
    }
  ]
}