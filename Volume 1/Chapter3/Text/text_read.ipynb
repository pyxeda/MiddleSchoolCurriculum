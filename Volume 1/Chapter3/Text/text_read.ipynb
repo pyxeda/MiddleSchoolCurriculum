{
  "nbformat": 4,
  "nbformat_minor": 0,
  "metadata": {
    "colab": {
      "name": "text_read.ipynb",
      "provenance": [],
      "collapsed_sections": []
    },
    "kernelspec": {
      "name": "python3",
      "display_name": "Python 3"
    },
    "language_info": {
      "name": "python"
    }
  },
  "cells": [
    {
      "cell_type": "markdown",
      "metadata": {
        "id": "VeP-0hSASJTV"
      },
      "source": [
        "# **Problem: Read a text file and print it.**\n",
        "\n",
        "Python program to read text data (like log files) in python and print line by line.\n",
        "\n",
        "**Examples:**\n",
        "\n",
        "Change the variable 'url' by providing the google drive URL of the text file, that you want to print sentence by sentence.\n",
        "\n",
        "Eg:url = 'https://drive.google.com/file/d/1ydfmj1HosSIUtT7LnJL05cfLsItgMqqo/view?usp=sharing'\n",
        "\n",
        "Run all the cells. After executing the last cell, you will see the text printed line by line.\n",
        "\n",
        "**Notes:**\n",
        "\n",
        "Following things are needed to be checked before running the program.\n",
        " 1.  gdown module is needed to be installed in the local machine to run this program."
      ]
    },
    {
      "cell_type": "markdown",
      "metadata": {
        "id": "kCqkgifLbVYT"
      },
      "source": [
        "# Mount your google drive"
      ]
    },
    {
      "cell_type": "code",
      "metadata": {
        "id": "mGUYyDz_nMCY",
        "colab": {
          "base_uri": "https://localhost:8080/"
        },
        "outputId": "ea8175a1-a3b2-4518-ed08-9b3a26f640c2"
      },
      "source": [
        "from google.colab import drive\n",
        "drive.mount('/content/drive')"
      ],
      "execution_count": 9,
      "outputs": [
        {
          "output_type": "stream",
          "name": "stdout",
          "text": [
            "Drive already mounted at /content/drive; to attempt to forcibly remount, call drive.mount(\"/content/drive\", force_remount=True).\n"
          ]
        }
      ]
    },
    {
      "cell_type": "markdown",
      "metadata": {
        "id": "8t7pk5jxTzz6"
      },
      "source": [
        "# Import Modules"
      ]
    },
    {
      "cell_type": "code",
      "metadata": {
        "id": "RNYGr7wETxyz"
      },
      "source": [
        "# Import gdown module to download files from google drive\n",
        "import gdown"
      ],
      "execution_count": 10,
      "outputs": []
    },
    {
      "cell_type": "markdown",
      "metadata": {
        "id": "Bj-pAxW_Ta68"
      },
      "source": [
        "# Get the file location from Google Drive"
      ]
    },
    {
      "cell_type": "code",
      "metadata": {
        "id": "Vyg2Pn7oTc6p"
      },
      "source": [
        "# Please change the URL as needed\n",
        "\n",
        "url = 'https://drive.google.com/file/d/1ydfmj1HosSIUtT7LnJL05cfLsItgMqqo/view?usp=sharing'\n",
        "\n",
        "# Derive the file id from the URL\n",
        "file_id = url.split('/')[-2]\n",
        "\n",
        "# Derive the download url of the the file\n",
        "download_url = 'https://drive.google.com/uc?id=' + file_id\n",
        "\n",
        "# Give the location you want to save it in your local machine\n",
        "file_location = r'about_us.txt'"
      ],
      "execution_count": 11,
      "outputs": []
    },
    {
      "cell_type": "markdown",
      "metadata": {
        "id": "CjbuqOIlTgto"
      },
      "source": [
        "# Download the text file and print it"
      ]
    },
    {
      "cell_type": "code",
      "metadata": {
        "colab": {
          "base_uri": "https://localhost:8080/"
        },
        "id": "4IBKMuIITkJJ",
        "outputId": "f07ae779-4e4f-4d30-d623-27bb57c6ef19"
      },
      "source": [
        "# Download the file from drive to your local machine\n",
        "gdown.download(download_url, file_location, quiet=False)\n",
        "\n",
        "# Open the file in the specified location\n",
        "with open(file_location, 'r') as file:\n",
        "\n",
        "  # Read the file\n",
        "  lines = file.readlines()\n",
        "  \n",
        "  # Initialize line count\n",
        "  line_count = 0\n",
        "\n",
        "  # Print each line of the text\n",
        "  for line in lines:\n",
        "      line_count += 1\n",
        "      print(f'line {line_count}: {line}')"
      ],
      "execution_count": 13,
      "outputs": [
        {
          "output_type": "stream",
          "name": "stderr",
          "text": [
            "Downloading...\n",
            "From: https://drive.google.com/uc?id=1ydfmj1HosSIUtT7LnJL05cfLsItgMqqo\n",
            "To: /content/about_us.txt\n",
            "100%|██████████| 452/452 [00:00<00:00, 591kB/s]"
          ]
        },
        {
          "output_type": "stream",
          "name": "stdout",
          "text": [
            "line 1: Our mission is to empower kids from elementary, middle, and high school to learn AI and realize their passions through creative applications of their learnings. We are a group of AI and software experts with PhDs from top-tier schools and many years of real-world experience. We created AIClub to help the next generation of kids improve their AI Literacy and imagine the future with technology. Curious why kids should learn AI? Check out AI for Kids.\n"
          ]
        },
        {
          "output_type": "stream",
          "name": "stderr",
          "text": [
            "\n"
          ]
        }
      ]
    }
  ]
}