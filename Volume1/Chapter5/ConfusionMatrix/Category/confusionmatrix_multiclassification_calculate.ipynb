{
  "nbformat": 4,
  "nbformat_minor": 0,
  "metadata": {
    "colab": {
      "name": "confusionmatrix_multiclassification_calculate.ipynb",
      "provenance": [],
      "collapsed_sections": []
    },
    "kernelspec": {
      "name": "python3",
      "display_name": "Python 3"
    },
    "language_info": {
      "name": "python"
    }
  },
  "cells": [
    {
      "cell_type": "markdown",
      "metadata": {
        "id": "2qc5YFXmZvit"
      },
      "source": [
        "# **Problem: Calculate the confusion matrix for three categories**\n",
        "\n",
        "Python program to calculate the confusion matrix for three categories.\n",
        "\n",
        "Run all the cells. Confusion matrix is calculated using both pandas and sklearn separately.\n",
        "\n",
        "**Notes:**\n",
        "\n",
        "Following things are needed to be checked before running the program.\n",
        "\n",
        "1.  Check whether the given two lists have same number of items.\n",
        "2. Check whether you include items with same item type inside the lists."
      ]
    },
    {
      "cell_type": "markdown",
      "metadata": {
        "id": "RNVr2EhdaCID"
      },
      "source": [
        "# Import Modules"
      ]
    },
    {
      "cell_type": "code",
      "metadata": {
        "id": "crOi0SLCZ-bq"
      },
      "source": [
        "# Import confusion_matrix for sklearn based calculation\n",
        "from sklearn.metrics import confusion_matrix\n",
        "\n",
        "# Import pandas for pandas based calculation\n",
        "import pandas as pd"
      ],
      "execution_count": 1,
      "outputs": []
    },
    {
      "cell_type": "markdown",
      "metadata": {
        "id": "BcJrrQ2DaFGE"
      },
      "source": [
        "# Input Lists"
      ]
    },
    {
      "cell_type": "code",
      "metadata": {
        "id": "U03u_2jbaIaJ"
      },
      "source": [
        "# Actuals\n",
        "actuals = ['cat', 'cat', 'racoon', 'racoon', 'dog', 'cat', 'dog', 'racoon']\n",
        "\n",
        "# Predictions\n",
        "predictions = ['racoon', 'cat', 'racoon', 'dog', 'dog', 'cat', 'cat', 'racoon'] "
      ],
      "execution_count": null,
      "outputs": []
    },
    {
      "cell_type": "markdown",
      "metadata": {
        "id": "VJRpZhmRaKpY"
      },
      "source": [
        "# Confusion Matrix using sklearn"
      ]
    },
    {
      "cell_type": "code",
      "metadata": {
        "colab": {
          "base_uri": "https://localhost:8080/"
        },
        "id": "RfbQhV42aNgY",
        "outputId": "f3b76a95-8ca7-498c-e1ce-948f803e0a0a"
      },
      "source": [
        "# Construct Confusion Matrix\n",
        "constructed_confusion_matrix = confusion_matrix(predictions, actuals)\n",
        "\n",
        "# Print Confusion Matrix\n",
        "print(\"Confusion matrix using sklearn \\n \\n\", constructed_confusion_matrix)"
      ],
      "execution_count": null,
      "outputs": [
        {
          "output_type": "stream",
          "name": "stdout",
          "text": [
            "Confusion matrix using sklearn \n",
            " \n",
            " [[2 1 0]\n",
            " [0 1 1]\n",
            " [1 0 2]]\n"
          ]
        }
      ]
    },
    {
      "cell_type": "markdown",
      "metadata": {
        "id": "2mk_uFObaQEl"
      },
      "source": [
        "# Confusion Matrix using pandas"
      ]
    },
    {
      "cell_type": "code",
      "metadata": {
        "colab": {
          "base_uri": "https://localhost:8080/"
        },
        "id": "Ruq0j_6YaS1s",
        "outputId": "bd2644c3-e9c6-4506-bf08-740d97977922"
      },
      "source": [
        "# Convert actual list to a series\n",
        "actuals = pd.Series(actuals, name='Actual')\n",
        "\n",
        "# Convert prediction list to a series\n",
        "predictions = pd.Series(predictions, name='Predictions')\n",
        "\n",
        "# Create Confusion Matrix\n",
        "confusion_matrix = pd.crosstab(predictions, actuals)\n",
        "\n",
        "# Print Confusion Matrix\n",
        "print(\"\\n Confusion matrix using pandas \\n \\n\", confusion_matrix)"
      ],
      "execution_count": null,
      "outputs": [
        {
          "output_type": "stream",
          "name": "stdout",
          "text": [
            "\n",
            " Confusion matrix using pandas \n",
            " \n",
            " Actual       cat  dog  racoon\n",
            "Predictions                  \n",
            "cat            2    1       0\n",
            "dog            0    1       1\n",
            "racoon         1    0       2\n"
          ]
        }
      ]
    }
  ]
}