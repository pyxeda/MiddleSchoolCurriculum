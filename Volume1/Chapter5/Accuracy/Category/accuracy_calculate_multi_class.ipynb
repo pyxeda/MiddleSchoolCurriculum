{
  "nbformat": 4,
  "nbformat_minor": 0,
  "metadata": {
    "colab": {
      "name": "accuracy_calculate_multi_class.ipynb",
      "provenance": [],
      "collapsed_sections": []
    },
    "kernelspec": {
      "name": "python3",
      "display_name": "Python 3"
    },
    "language_info": {
      "name": "python"
    }
  },
  "cells": [
    {
      "cell_type": "markdown",
      "metadata": {
        "id": "12AF0VW73uP6"
      },
      "source": [
        "# **Problem:Calculate accuracy - 3 category case**\n",
        "\n",
        "Python program to calculate the accuracy (3 category case), for given two lists. \n",
        "list _1 is actual labels and list_2 is AI predictions. \n",
        "\n",
        "Program calculates accuracies in 2 ways.\n",
        "1.   Without using libraries\n",
        "2.   Using libraries\n",
        "\n",
        "**Examples:**\n",
        "\n",
        "Input lists --> \n",
        "> actual_labels = ['cat', 'cat', 'racoon', 'racoon', 'dog', 'cat', 'dog', 'racoon']\n",
        "\n",
        "> ai_predictions = ['racoon', 'cat', 'racoon', 'dog', 'dog', 'cat', 'cat', 'dog']\n",
        "\n",
        "Output      -->\n",
        "> Accuracy = 0.5\n",
        "\n",
        "> Accuracy percentage = 50%\n",
        "\n",
        "**Notes:**\n",
        "\n",
        "*   Check whether you have given valid elements for the 2 lists.\n",
        "*   Check whether your lists are not empty.\n",
        "*   Check whether the two lists have same number of elements.\n",
        "\n",
        "\n",
        "\n",
        "\n",
        "\n",
        "\n",
        "\n"
      ]
    },
    {
      "cell_type": "code",
      "metadata": {
        "id": "rP9KeXNIQwNO"
      },
      "source": [
        "#@title MIT License\n",
        "\n",
        "# Copyright (c) 2021 AIClub\n",
        "\n",
        "# Permission is hereby granted, free of charge, to any person obtaining a copy of this software and associated \n",
        "# documentation files (the \"Software\"), to deal in the Software without restriction, including without \n",
        "# limitation the rights to use, copy, modify, merge, publish, distribute, sublicense, and/or sell copies of \n",
        "# the Software, and to permit persons to whom the Software is furnished to do so, subject to the following \n",
        "# conditions:\n",
        "\n",
        "# The above copyright notice and this permission notice shall be included in all copies or substantial\n",
        "# portions of the Software.\n",
        "\n",
        "# THE SOFTWARE IS PROVIDED \"AS IS\", WITHOUT WARRANTY OF ANY KIND, EXPRESS OR IMPLIED, INCLUDING BUT NOT \n",
        "# LIMITED TO THE WARRANTIES OF MERCHANTABILITY, FITNESS FOR A PARTICULAR PURPOSE AND NONINFRINGEMENT. IN NO \n",
        "# EVENT SHALL THE AUTHORS OR COPYRIGHT HOLDERS BE LIABLE FOR ANY CLAIM, DAMAGES OR OTHER LIABILITY, WHETHER IN \n",
        "# AN ACTION OF CONTRACT, TORT OR OTHERWISE, ARISING FROM, OUT OF OR IN CONNECTION WITH THE SOFTWARE OR THE USE \n",
        "# OR OTHER DEALINGS IN THE SOFTWARE."
      ],
      "execution_count": null,
      "outputs": []
    },
    {
      "cell_type": "markdown",
      "metadata": {
        "id": "_eaNM-nI6lYI"
      },
      "source": [
        "# Input lists"
      ]
    },
    {
      "cell_type": "code",
      "metadata": {
        "id": "KE4Tptq56zH2"
      },
      "source": [
        "# Change the lists; 'actual_labels' and 'ai_predictions' as you needed\n",
        "\n",
        "# Actual labels\n",
        "actual_labels = ['cat', 'cat', 'racoon', 'racoon', 'dog', 'cat', 'dog', 'racoon']\n",
        "\n",
        "# Predicted labels   \n",
        "ai_predictions = ['racoon', 'cat', 'racoon', 'dog', 'dog', 'cat', 'cat', 'dog'] "
      ],
      "execution_count": null,
      "outputs": []
    },
    {
      "cell_type": "markdown",
      "metadata": {
        "id": "G93PWLSs60Sv"
      },
      "source": [
        "# Accuracy calculation without using libraries"
      ]
    },
    {
      "cell_type": "code",
      "metadata": {
        "id": "RLXrjK9C67bG",
        "outputId": "7eaa486b-3110-4207-c0ea-0c3e5d9ddc7a",
        "colab": {
          "base_uri": "https://localhost:8080/"
        }
      },
      "source": [
        "# Initialise the variable to count the no. of correctly predicted labels\n",
        "correct_predictions = 0\n",
        "\n",
        "# Iterate through the each index of actual labels in the list 'labels'\n",
        "for label in range(len(actual_labels)):\n",
        "\n",
        "    # Check whether the predicted label is same as the actual label           \n",
        "    if actual_labels[label] == ai_predictions[label]:\n",
        "\n",
        "        # If predicted label is same as the actual label, increase the correct predictions by 1\n",
        "        correct_predictions += 1\n",
        "\n",
        "# Calculate the accuracy \n",
        "accuracy_without_sklearn = correct_predictions / len(actual_labels)\n",
        "\n",
        "# Calculate the accuracy percentage\n",
        "accuracy_percentage_without_sklearn = accuracy_without_sklearn * 100\n",
        "\n",
        "# Print the accuracy\n",
        "print ('Accuracy without using sklearn: ', accuracy_without_sklearn)\n",
        "\n",
        "# Print the percentage of the accuracy\n",
        "print ('Accuracy percentage without using sklearn: ', str(accuracy_percentage_without_sklearn), '%') "
      ],
      "execution_count": null,
      "outputs": [
        {
          "output_type": "stream",
          "name": "stdout",
          "text": [
            "Accuracy without using sklearn:  0.5\n",
            "Accuracy percentage without using sklearn:  50.0 %\n"
          ]
        }
      ]
    },
    {
      "cell_type": "markdown",
      "metadata": {
        "id": "p3xXOMQv7B6N"
      },
      "source": [
        "# Accuracy calculation using libraries"
      ]
    },
    {
      "cell_type": "markdown",
      "metadata": {
        "id": "SR8U7paA7IDy"
      },
      "source": [
        "Import modules"
      ]
    },
    {
      "cell_type": "code",
      "metadata": {
        "id": "0QaheJ2d7HTj"
      },
      "source": [
        "# Import accuracy_score function to calculate the accuracy \n",
        "from sklearn.metrics import accuracy_score"
      ],
      "execution_count": null,
      "outputs": []
    },
    {
      "cell_type": "markdown",
      "metadata": {
        "id": "9BTIz08g7Q1P"
      },
      "source": [
        "Calculate accuracy"
      ]
    },
    {
      "cell_type": "code",
      "metadata": {
        "id": "rTpstGyI7V57",
        "outputId": "96cea402-dc99-4996-cbcb-64f117dc2f8d",
        "colab": {
          "base_uri": "https://localhost:8080/"
        }
      },
      "source": [
        "# Claculate the accuracy\n",
        "accuracy_using_sklearn =  accuracy_score(actual_labels, ai_predictions)   \n",
        "    \n",
        "# Calculate the accuracy percentage\n",
        "accuracy_percentage_using_sklearn = accuracy_using_sklearn * 100\n",
        "\n",
        "# Print the accuracy\n",
        "print ('\\nAccuracy using sklearn: ', accuracy_using_sklearn)\n",
        "\n",
        "# Print the percentage of the accuracy\n",
        "print ('Accuracy percentage using sklearn: ', str(accuracy_percentage_using_sklearn), '%')"
      ],
      "execution_count": null,
      "outputs": [
        {
          "output_type": "stream",
          "name": "stdout",
          "text": [
            "\n",
            "Accuracy using sklearn:  0.5\n",
            "Accuracy percentage using sklearn:  50.0 %\n"
          ]
        }
      ]
    }
  ]
}