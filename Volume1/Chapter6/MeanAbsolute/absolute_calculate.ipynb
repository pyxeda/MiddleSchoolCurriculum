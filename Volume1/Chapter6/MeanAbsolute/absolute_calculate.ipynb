{
  "nbformat": 4,
  "nbformat_minor": 0,
  "metadata": {
    "colab": {
      "name": "absolute_calculate.ipynb",
      "provenance": [],
      "collapsed_sections": []
    },
    "kernelspec": {
      "name": "python3",
      "display_name": "Python 3"
    },
    "language_info": {
      "name": "python"
    }
  },
  "cells": [
    {
      "cell_type": "markdown",
      "metadata": {
        "id": "saAywVxEa_YF"
      },
      "source": [
        "# **Problem: Calculate the Mean Absolute Error (MAE)**\n",
        "\n",
        "Python program to calculate the Mean Absolute Error (MAE), for given two lists.\n",
        "\n",
        "Run all the cells. After running the last cell you will see the Mean Absolute Error for the given inputs. (MAE is calculate using skilearn as well as without sklearn.)\n",
        "\n",
        "**Notes:**\n",
        "\n",
        "Following things are needed to be checked before running the program.\n",
        "\n",
        "1. Check whether you have given valid elements for the 2 lists.\n",
        "2. Check whether your lists are not empty\n",
        "3. Check whether the two lists have same number of elements."
      ]
    },
    {
      "cell_type": "markdown",
      "metadata": {
        "id": "YNGwre2Rcwp3"
      },
      "source": [
        "# Import Modules"
      ]
    },
    {
      "cell_type": "code",
      "metadata": {
        "id": "T9USV3zkcysz"
      },
      "source": [
        "# Import mean_absolute_error for sklearn based calculation\n",
        "from sklearn.metrics import mean_absolute_error\n"
      ],
      "execution_count": null,
      "outputs": []
    },
    {
      "cell_type": "markdown",
      "metadata": {
        "id": "VnqKXGC8c88O"
      },
      "source": [
        "# Input Lists"
      ]
    },
    {
      "cell_type": "code",
      "metadata": {
        "id": "5WTzKrnhc_05"
      },
      "source": [
        "# Actuals\n",
        "actuals = [12, 13, 14, 15, 15, 22, 27]\n",
        "\n",
        "# Predictions  \n",
        "predictions = [11, 13, 14, 14, 15, 55, 35]"
      ],
      "execution_count": null,
      "outputs": []
    },
    {
      "cell_type": "markdown",
      "metadata": {
        "id": "iMDefkahdCnb"
      },
      "source": [
        "# MAE calculation without sklearn"
      ]
    },
    {
      "cell_type": "code",
      "metadata": {
        "colab": {
          "base_uri": "https://localhost:8080/"
        },
        "id": "Hjo9StXPdFvZ",
        "outputId": "01c5a30b-da05-40b4-f5e5-950de1735bb5"
      },
      "source": [
        "# Variable to count the no. of actual items \n",
        "count = 0\n",
        "\n",
        "# Variable to get absolute error sum\n",
        "absolute_error_sum = 0\n",
        "\n",
        "# Iterate through each item of the list 'actuals'\n",
        "for item in range(len(actuals)):\n",
        "\n",
        "    # Increase the count by 1, when iterating\n",
        "    count += 1\n",
        "\n",
        "    # Calculate the difference between actual value and predicted value           \n",
        "    error = actuals[item] - predictions[item]\n",
        "    \n",
        "    # Get absolute value of the error using 'abs' function\n",
        "    absolute_error = abs(error)\n",
        "\n",
        "    # Sum up the errors\n",
        "    absolute_error_sum += absolute_error\n",
        "\n",
        "# Calculate the mean absolute error\n",
        "mae_without_sklearn = absolute_error_sum / count\n",
        "\n",
        "# Print the MAE value\n",
        "print ('Mean Absolute Error without sklearn : ', mae_without_sklearn)"
      ],
      "execution_count": null,
      "outputs": [
        {
          "output_type": "stream",
          "name": "stdout",
          "text": [
            "Mean Absolute Error without sklearn :  6.142857142857143\n"
          ]
        }
      ]
    },
    {
      "cell_type": "markdown",
      "metadata": {
        "id": "zBXeurYsdNDG"
      },
      "source": [
        "# MAE calculation with sklearn"
      ]
    },
    {
      "cell_type": "code",
      "metadata": {
        "colab": {
          "base_uri": "https://localhost:8080/"
        },
        "id": "beB2JG0qdPTL",
        "outputId": "d49ff29c-de79-4fdc-d4ca-5a4b20569572"
      },
      "source": [
        "# Calculate MAE using sklearn\n",
        "mae_with_sklearn = mean_absolute_error(actuals, predictions)\n",
        "\n",
        "# Print the MAE value\n",
        "print ('Mean Absolute Error with sklearn : ', mae_with_sklearn)"
      ],
      "execution_count": null,
      "outputs": [
        {
          "output_type": "stream",
          "name": "stdout",
          "text": [
            "Mean Absolute Error with sklearn :  6.142857142857143\n"
          ]
        }
      ]
    }
  ]
}