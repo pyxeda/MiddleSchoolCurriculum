{
  "cells": [
    {
      "cell_type": "markdown",
      "metadata": {
        "id": "VeP-0hSASJTV"
      },
      "source": [
        "# **Problem: Read a text file and print it.**\n",
        "\n",
        "Python program to read text data (like log files) in python and print line by line.\n",
        "\n",
        "**Examples:**\n",
        "\n",
        "Change the variable 'url' by providing the google drive URL of the text file, that you want to print sentence by sentence.\n",
        "\n",
        "Eg:url = 'https://drive.google.com/file/d/1ydfmj1HosSIUtT7LnJL05cfLsItgMqqo/view?usp=sharing'\n",
        "\n",
        "Run all the cells. After executing the last cell, you will see the text printed line by line.\n",
        "\n",
        "**Notes:**\n",
        "\n",
        "Following things are needed to be checked before running the program.\n",
        " 1.  gdown module is needed to be installed in the local machine to run this program."
      ]
    },
    {
      "cell_type": "markdown",
      "metadata": {
        "id": "8t7pk5jxTzz6"
      },
      "source": [
        "# Import Modules"
      ]
    },
    {
      "cell_type": "code",
      "execution_count": 10,
      "metadata": {
        "id": "RNYGr7wETxyz"
      },
      "outputs": [],
      "source": [
        "# Import gdown module to download files from google drive\n",
        "import gdown"
      ]
    },
    {
      "cell_type": "markdown",
      "metadata": {
        "id": "Bj-pAxW_Ta68"
      },
      "source": [
        "# Get the file location from Google Drive"
      ]
    },
    {
      "cell_type": "code",
      "execution_count": 11,
      "metadata": {
        "id": "Vyg2Pn7oTc6p"
      },
      "outputs": [],
      "source": [
        "# Please change the URL as needed\n",
        "\n",
        "url = 'https://drive.google.com/file/d/1ydfmj1HosSIUtT7LnJL05cfLsItgMqqo/view?usp=sharing'\n",
        "\n",
        "# Derive the file id from the URL\n",
        "file_id = url.split('/')[-2]\n",
        "\n",
        "# Derive the download url of the the file\n",
        "download_url = 'https://drive.google.com/uc?id=' + file_id\n",
        "\n",
        "# Give the location you want to save it in your local machine\n",
        "file_location = r'about_us.txt'"
      ]
    },
    {
      "cell_type": "markdown",
      "metadata": {
        "id": "CjbuqOIlTgto"
      },
      "source": [
        "# Download the text file and print it"
      ]
    },
    {
      "cell_type": "code",
      "execution_count": 13,
      "metadata": {
        "colab": {
          "base_uri": "https://localhost:8080/"
        },
        "id": "4IBKMuIITkJJ",
        "outputId": "f07ae779-4e4f-4d30-d623-27bb57c6ef19"
      },
      "outputs": [
        {
          "name": "stderr",
          "output_type": "stream",
          "text": [
            "Downloading...\n",
            "From: https://drive.google.com/uc?id=1ydfmj1HosSIUtT7LnJL05cfLsItgMqqo\n",
            "To: /content/about_us.txt\n",
            "100%|██████████| 452/452 [00:00<00:00, 591kB/s]"
          ]
        },
        {
          "name": "stdout",
          "output_type": "stream",
          "text": [
            "line 1: Our mission is to empower kids from elementary, middle, and high school to learn AI and realize their passions through creative applications of their learnings. We are a group of AI and software experts with PhDs from top-tier schools and many years of real-world experience. We created AIClub to help the next generation of kids improve their AI Literacy and imagine the future with technology. Curious why kids should learn AI? Check out AI for Kids.\n"
          ]
        },
        {
          "name": "stderr",
          "output_type": "stream",
          "text": [
            "\n"
          ]
        }
      ],
      "source": [
        "# Download the file from drive to your local machine\n",
        "gdown.download(download_url, file_location, quiet=False)\n",
        "\n",
        "# Open the file in the specified location\n",
        "with open(file_location, 'r') as file:\n",
        "\n",
        "  # Read the file\n",
        "  lines = file.readlines()\n",
        "  \n",
        "  # Initialize line count\n",
        "  line_count = 0\n",
        "\n",
        "  # Print each line of the text\n",
        "  for line in lines:\n",
        "      line_count += 1\n",
        "      print(f'line {line_count}: {line}')"
      ]
    }
  ],
  "metadata": {
    "colab": {
      "collapsed_sections": [],
      "name": "text_read.ipynb",
      "provenance": []
    },
    "kernelspec": {
      "display_name": "Python 3",
      "name": "python3"
    },
    "language_info": {
      "name": "python"
    }
  },
  "nbformat": 4,
  "nbformat_minor": 0
}
