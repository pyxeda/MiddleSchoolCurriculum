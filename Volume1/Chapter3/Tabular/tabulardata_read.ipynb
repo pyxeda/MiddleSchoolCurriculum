{
  "nbformat": 4,
  "nbformat_minor": 0,
  "metadata": {
    "colab": {
      "name": "tabulardata_read.ipynb",
      "provenance": [],
      "collapsed_sections": []
    },
    "kernelspec": {
      "name": "python3",
      "display_name": "Python 3"
    },
    "language_info": {
      "name": "python"
    }
  },
  "cells": [
    {
      "cell_type": "markdown",
      "metadata": {
        "id": "xd02_3yhabnX"
      },
      "source": [
        "# **Problem: Read and display tabular data**\n",
        "\n",
        "A python program to read tabular data from a CSV file from the google drive, and then display data.\n",
        "\n",
        "**Examples:**\n",
        "\n",
        "Change the variable 'url' by providing the google drive URL of the CSV file, that you want to read and display.\n",
        "\n",
        "> Eg:url = 'https://drive.google.com/file/d/1J5z8OsAtgSp9i1eLxQFoxVexSZJuhI_-/view?usp=sharing'\n",
        "\n",
        "Run the cells. You will see a sample from the data and will see the data of specific column from the dataset.\n",
        "\n",
        "> Sample data\n",
        "\n",
        "![image.png](data:image/png;base64,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)\n",
        "\n",
        "> Column data of a specific column\n",
        "\n",
        "![image.png](data:image/png;base64,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)\n",
        "\n",
        "\n",
        "\n",
        "\n",
        "\n",
        "**Notes:**\n",
        "\n",
        "Following things are needed to be checked before running the program.\n",
        "*   Check whether you have given the correct location of your csv file.\n",
        "*   Check whether you file format is correct.\n",
        "*   Check whether you have access to the file.\n",
        "*   Check whether you have given correct column name to display the data. \n"
      ]
    },
    {
      "cell_type": "code",
      "metadata": {
        "id": "znLAVQLNNFkl"
      },
      "source": [
        "#@title MIT License\n",
        "\n",
        "# Copyright (c) 2021 AIClub\n",
        "\n",
        "# Permission is hereby granted, free of charge, to any person obtaining a copy of this software and associated \n",
        "# documentation files (the \"Software\"), to deal in the Software without restriction, including without \n",
        "# limitation the rights to use, copy, modify, merge, publish, distribute, sublicense, and/or sell copies of \n",
        "# the Software, and to permit persons to whom the Software is furnished to do so, subject to the following \n",
        "# conditions:\n",
        "\n",
        "# The above copyright notice and this permission notice shall be included in all copies or substantial\n",
        "# portions of the Software.\n",
        "\n",
        "# THE SOFTWARE IS PROVIDED \"AS IS\", WITHOUT WARRANTY OF ANY KIND, EXPRESS OR IMPLIED, INCLUDING BUT NOT \n",
        "# LIMITED TO THE WARRANTIES OF MERCHANTABILITY, FITNESS FOR A PARTICULAR PURPOSE AND NONINFRINGEMENT. IN NO \n",
        "# EVENT SHALL THE AUTHORS OR COPYRIGHT HOLDERS BE LIABLE FOR ANY CLAIM, DAMAGES OR OTHER LIABILITY, WHETHER IN \n",
        "# AN ACTION OF CONTRACT, TORT OR OTHERWISE, ARISING FROM, OUT OF OR IN CONNECTION WITH THE SOFTWARE OR THE USE \n",
        "# OR OTHER DEALINGS IN THE SOFTWARE."
      ],
      "execution_count": null,
      "outputs": []
    },
    {
      "cell_type": "markdown",
      "metadata": {
        "id": "VBqjhcUbc-72"
      },
      "source": [
        "# Import modules"
      ]
    },
    {
      "cell_type": "code",
      "metadata": {
        "id": "9S-OD3v0cTxA"
      },
      "source": [
        "# Import pandas module to read the CSV file\n",
        "import pandas as pd\n",
        "\n",
        "# Import gdown module to download files from google drive\n",
        "import gdown"
      ],
      "execution_count": null,
      "outputs": []
    },
    {
      "cell_type": "markdown",
      "metadata": {
        "id": "NC5yAkbHdCZm"
      },
      "source": [
        "# Get the file location from the google drive"
      ]
    },
    {
      "cell_type": "code",
      "metadata": {
        "id": "hR2Ar8XHdoav"
      },
      "source": [
        "# Please change the url as needed (make sure you have the access to the file)\n",
        "url = \"https://drive.google.com/file/d/1J5z8OsAtgSp9i1eLxQFoxVexSZJuhI_-/view?usp=sharing\"\n",
        "\n",
        "# Derive the file id from the url\n",
        "file_id = url.split('/')[-2]\n",
        "\n",
        "# Derive the download url of the file\n",
        "download_url = 'https://drive.google.com/uc?id=' + file_id\n",
        "\n",
        "# Give the file name you want to save it \n",
        "file_name = \"child_vs_adult.csv\"\n",
        "\n",
        "# Derive the file location\n",
        "file_location = \"/content/\" + file_name"
      ],
      "execution_count": null,
      "outputs": []
    },
    {
      "cell_type": "markdown",
      "metadata": {
        "id": "gd1WH9wQdou7"
      },
      "source": [
        "# Downloading, Reading and Displaying of data"
      ]
    },
    {
      "cell_type": "markdown",
      "metadata": {
        "id": "uMe4N40Uh5fe"
      },
      "source": [
        "Download and read the CSV file"
      ]
    },
    {
      "cell_type": "code",
      "metadata": {
        "id": "ouYfE4areWFk",
        "outputId": "0e11d060-5bcb-4ce4-c9a9-9aa6d16d3cd5",
        "colab": {
          "base_uri": "https://localhost:8080/"
        }
      },
      "source": [
        "# Download the file from drive\n",
        "gdown.download(download_url, file_location, quiet=False)\n",
        "\n",
        "# Read the CSV file\n",
        "data = pd.read_csv(file_location)"
      ],
      "execution_count": null,
      "outputs": [
        {
          "output_type": "stream",
          "name": "stderr",
          "text": [
            "Downloading...\n",
            "From: https://drive.google.com/uc?id=1J5z8OsAtgSp9i1eLxQFoxVexSZJuhI_-\n",
            "To: /content/child_vs_adult.csv\n",
            "100%|██████████| 76.4k/76.4k [00:00<00:00, 2.44MB/s]\n"
          ]
        }
      ]
    },
    {
      "cell_type": "markdown",
      "metadata": {
        "id": "GHfLu6-aggWJ"
      },
      "source": [
        "Display a sample from the dataset"
      ]
    },
    {
      "cell_type": "code",
      "metadata": {
        "id": "ipsfzY3BgqAE",
        "outputId": "424b7729-2dcd-4731-faa8-fb252b48fe31",
        "colab": {
          "base_uri": "https://localhost:8080/"
        }
      },
      "source": [
        "# Print a sample (first row) from the tabular data\n",
        "print('---------- A Sample (first row) from the Dataset ----------')\n",
        "print(data.head(1))"
      ],
      "execution_count": null,
      "outputs": [
        {
          "output_type": "stream",
          "name": "stdout",
          "text": [
            "---------- A Sample (first row) from the Dataset ----------\n",
            "   num_countries  years_school  height who_am_I\n",
            "0              0             4    4.86    child\n"
          ]
        }
      ]
    },
    {
      "cell_type": "markdown",
      "metadata": {
        "id": "T7pn823DhbAi"
      },
      "source": [
        "Show the column names of the dataset"
      ]
    },
    {
      "cell_type": "code",
      "metadata": {
        "id": "I-LutOhihk1-",
        "outputId": "3d8c3aa5-1b3e-487e-bd10-a04c661f99e1",
        "colab": {
          "base_uri": "https://localhost:8080/"
        }
      },
      "source": [
        "# See the column names in the table\n",
        "column_names = data.columns\n",
        "print('---------- Column Names in the Table ----------')\n",
        "for column in column_names:\n",
        "    print (column)"
      ],
      "execution_count": null,
      "outputs": [
        {
          "output_type": "stream",
          "name": "stdout",
          "text": [
            "---------- Column Names in the Table ----------\n",
            "num_countries\n",
            "years_school\n",
            "height\n",
            "who_am_I\n"
          ]
        }
      ]
    },
    {
      "cell_type": "markdown",
      "metadata": {
        "id": "RxAogMqQhlcW"
      },
      "source": [
        "Print the specific column data"
      ]
    },
    {
      "cell_type": "code",
      "metadata": {
        "id": "qSMrcrFYhuPX",
        "outputId": "a5c811f1-3872-4cbd-b163-fc8da53e89dc",
        "colab": {
          "base_uri": "https://localhost:8080/"
        }
      },
      "source": [
        "# You can change the column name as you needed, after visualizing the column names at the above step\n",
        "column_name = \"height\"\n",
        "    \n",
        "# Print specific column data from the tabular data\n",
        "print('---------- Data from the Column ----------')\n",
        "column = data[[column_name]]\n",
        "print (column)"
      ],
      "execution_count": null,
      "outputs": [
        {
          "output_type": "stream",
          "name": "stdout",
          "text": [
            "---------- Data from the Column ----------\n",
            "      height\n",
            "0       4.86\n",
            "1       5.79\n",
            "2       5.63\n",
            "3       4.86\n",
            "4       6.00\n",
            "...      ...\n",
            "4995    5.33\n",
            "4996    2.83\n",
            "4997    5.61\n",
            "4998    5.32\n",
            "4999    5.21\n",
            "\n",
            "[5000 rows x 1 columns]\n"
          ]
        }
      ]
    }
  ]
}