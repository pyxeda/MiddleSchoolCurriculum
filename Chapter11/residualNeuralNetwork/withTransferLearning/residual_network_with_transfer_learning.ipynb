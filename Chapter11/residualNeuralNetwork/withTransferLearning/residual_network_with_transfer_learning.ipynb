{
  "nbformat": 4,
  "nbformat_minor": 0,
  "metadata": {
    "colab": {
      "name": "residual_network_with_transfer_learning.ipynb",
      "provenance": [],
      "collapsed_sections": []
    },
    "kernelspec": {
      "name": "python3",
      "display_name": "Python 3"
    },
    "language_info": {
      "name": "python"
    }
  },
  "cells": [
    {
      "cell_type": "markdown",
      "metadata": {
        "id": "Fm15BsTFkiR2"
      },
      "source": [
        "# **Problem: Residual Neural Network in tensorflow. Train on cats and dogs dataset.**\n",
        "\n",
        "Python program to train cats and dogs dataset using Residual Neural Network in tensorflow (with transfer learning).\n",
        "\n",
        "Run all the cells. After executing the last cell, you will get the predictions.\n",
        "\n",
        "**Notes:**\n",
        "\n",
        "Following things are needed to be checked before running the program.\n",
        "  1. Keras module is needed to be installed.\n",
        "  2. gdown module is needed to be installed.\n",
        "  3. Check whether you have given the correct location of your dataset file.\n",
        "  5. You should have access to the file in the Google Drive.\n",
        "  "
      ]
    },
    {
      "cell_type": "markdown",
      "metadata": {
        "id": "ypdiISGNBNBX"
      },
      "source": [
        "# **Import Modules**"
      ]
    },
    {
      "cell_type": "code",
      "metadata": {
        "id": "rvTOp-uUAqtl"
      },
      "source": [
        "# Import resnet50 pretrained model\n",
        "from keras.applications.resnet import ResNet50\n",
        "\n",
        "# Import image module\n",
        "from keras.preprocessing import image\n",
        "\n",
        "# Import preprocess_input and decode_predictions modules to evaluate the input\n",
        "from keras.applications.resnet import preprocess_input, decode_predictions\n",
        "\n",
        "# Import numpy module\n",
        "import numpy as np\n",
        "\n",
        "# Import gdown module to download files from google drive\n",
        "import gdown\n"
      ],
      "execution_count": 1,
      "outputs": []
    },
    {
      "cell_type": "markdown",
      "metadata": {
        "id": "J9sgnIraBU86"
      },
      "source": [
        "# **Get the file location from google drive and download**"
      ]
    },
    {
      "cell_type": "code",
      "metadata": {
        "id": "lkTPUtD5BaBr"
      },
      "source": [
        "# Please change the URL as needed (make sure you have the access to the file)\n",
        "\n",
        "url = 'https://drive.google.com/file/d/1-FTayQ4HNMpWg9BSUE17-gbreaSsdtCf/view?usp=sharing'\n",
        "\n",
        "# Derive the file id from the URL\n",
        "file_id = url.split('/')[-2]\n",
        "\n",
        "# Derive the download url of the the file\n",
        "download_url = 'https://drive.google.com/uc?id=' + file_id\n",
        "\n",
        "# Give the location you want to save it in your local machine\n",
        "file_location = 'cats_and_dogs.zip'\n",
        "\n",
        "#--------------------------------------------- Download and extract the zip file -----------------------------------------------------------\n",
        "\n",
        "# Download the file from drive to your local machine\n",
        "gdown.download(download_url, file_location, quiet=False)\n"
      ],
      "execution_count": null,
      "outputs": []
    },
    {
      "cell_type": "markdown",
      "metadata": {
        "id": "KrMC9ovZBdmr"
      },
      "source": [
        "# **Unzip the zip dataset**"
      ]
    },
    {
      "cell_type": "code",
      "metadata": {
        "id": "EGCAPKdvBg9x"
      },
      "source": [
        "!unzip /content/cats_and_dogs.zip -d \"/content/unzipped_folder/\""
      ],
      "execution_count": null,
      "outputs": []
    },
    {
      "cell_type": "markdown",
      "metadata": {
        "id": "ALN2RKuXB1nQ"
      },
      "source": [
        "# **Start the prediction operation**"
      ]
    },
    {
      "cell_type": "code",
      "metadata": {
        "id": "1ULa2X0GB27Z"
      },
      "source": [
        "# Use ResNet50 pretrained model with imagenet training\n",
        "model = ResNet50(weights='imagenet')\n",
        "\n",
        "def evaluate(img_fname):\n",
        "    # Load the image\n",
        "    img = image.load_img(img_fname, target_size=(224, 224))\n",
        "\n",
        "    # Conver image into a Numpy array\n",
        "    x = image.img_to_array(img)\n",
        "\n",
        "    # Expand the array \n",
        "    x = np.expand_dims(x, axis=0)\n",
        "\n",
        "    # Adequate your image to the format the model requires\n",
        "    x = preprocess_input(x)\n",
        "\n",
        "    # Get the predictions\n",
        "    preds = model.predict(x)\n",
        "\n",
        "    # Print the probability and category name for the 5 categories \n",
        "    # With highest probability: \n",
        "    print('Predicted:', decode_predictions(preds, top=5)[0])"
      ],
      "execution_count": null,
      "outputs": []
    },
    {
      "cell_type": "markdown",
      "metadata": {
        "id": "x8d84ch6B6jV"
      },
      "source": [
        "# **Get the predictions for one image**"
      ]
    },
    {
      "cell_type": "code",
      "metadata": {
        "id": "ZK9nKtGUB94t"
      },
      "source": [
        "# Give the path of the image you want to predict to the evaluate function as a input parameter\n",
        "evaluate('/content/unzipped_folder/Cats and Dogs (New)/Cats/Cat_1.jpg')"
      ],
      "execution_count": null,
      "outputs": []
    }
  ]
}