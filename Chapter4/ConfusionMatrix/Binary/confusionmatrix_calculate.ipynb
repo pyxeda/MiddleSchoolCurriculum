{
  "nbformat": 4,
  "nbformat_minor": 0,
  "metadata": {
    "colab": {
      "name": "confusionmatrix_calculate.ipynb",
      "provenance": [],
      "collapsed_sections": []
    },
    "kernelspec": {
      "name": "python3",
      "display_name": "Python 3"
    },
    "language_info": {
      "name": "python"
    }
  },
  "cells": [
    {
      "cell_type": "markdown",
      "metadata": {
        "id": "zkrkYBbvXq4y"
      },
      "source": [
        "# **Problem: Calculate the confusion matrix for binary case**\n",
        "\n",
        "Python program to calculate the confusion matrix for binary case.\n",
        "\n",
        "Run all the cells. Confusion matrix is calculated using both pandas and sklearn separately.\n",
        "\n",
        "**Notes:**\n",
        "\n",
        "Following things are needed to be checked before running the program.\n",
        "\n",
        "1. sklearn module and pandas module is needed to be installed in the local machine to run this program.\n",
        "2.  Check whether the given two lists have same number of items.\n",
        "3. Check whether you include items with same item type inside the lists."
      ]
    },
    {
      "cell_type": "markdown",
      "metadata": {
        "id": "hmeg4JQRYqMs"
      },
      "source": [
        "# Import Modules"
      ]
    },
    {
      "cell_type": "code",
      "metadata": {
        "id": "n0v89dzFYtiJ"
      },
      "source": [
        "# Import confusion_matrix for sklearn based calculation\n",
        "from sklearn.metrics import confusion_matrix\n",
        "\n",
        "# Import pandas for pandas based calculation\n",
        "import pandas as pd"
      ],
      "execution_count": 1,
      "outputs": []
    },
    {
      "cell_type": "markdown",
      "metadata": {
        "id": "HGTwGxJRYv4c"
      },
      "source": [
        "#Input Lists"
      ]
    },
    {
      "cell_type": "code",
      "metadata": {
        "id": "L9jW3xfQYzhP"
      },
      "source": [
        "# Actuals\n",
        "actuals = ['cat', 'cat', 'dog', 'cat', 'dog']\n",
        "\n",
        "# Predictions\n",
        "predictions = ['cat', 'dog', 'dog', 'cat', 'cat'] "
      ],
      "execution_count": 2,
      "outputs": []
    },
    {
      "cell_type": "markdown",
      "metadata": {
        "id": "nSDlMjrOY2qL"
      },
      "source": [
        "# Confusion Matrix using sklearn"
      ]
    },
    {
      "cell_type": "code",
      "metadata": {
        "colab": {
          "base_uri": "https://localhost:8080/"
        },
        "id": "sICZ71n6Y8Jv",
        "outputId": "e4d1195d-2c3f-43d7-bd1b-13334214d5c3"
      },
      "source": [
        "# Construct Confusion Matrix\n",
        "constructed_confusion_matrix = confusion_matrix(predictions, actuals)\n",
        " \n",
        "# Print Confusion Matrix\n",
        "print(\"Confusion matrix using sklearn \\n \\n\", constructed_confusion_matrix)"
      ],
      "execution_count": 3,
      "outputs": [
        {
          "output_type": "stream",
          "name": "stdout",
          "text": [
            "Confusion matrix using sklearn \n",
            " \n",
            " [[2 1]\n",
            " [1 1]]\n"
          ]
        }
      ]
    },
    {
      "cell_type": "markdown",
      "metadata": {
        "id": "dE2pgVl8ZAa7"
      },
      "source": [
        "# Confusion Matrix using pandas"
      ]
    },
    {
      "cell_type": "code",
      "metadata": {
        "colab": {
          "base_uri": "https://localhost:8080/"
        },
        "id": "Q1qnfQG7ZDo1",
        "outputId": "604a2488-0481-4aeb-ce39-31a125e306e5"
      },
      "source": [
        "# Convert actual list to a series\n",
        "actuals = pd.Series(actuals, name='Actual')\n",
        "\n",
        "# Convert prediction list to a series\n",
        "predictions = pd.Series(predictions, name='Predictions')\n",
        "\n",
        "# Create Confusion Matrix\n",
        "confusion_matrix = pd.crosstab(predictions, actuals)\n",
        "\n",
        "# Print Confusion Matrix\n",
        "print(\"\\n Confusion matrix using pandas \\n \\n\", confusion_matrix)"
      ],
      "execution_count": 4,
      "outputs": [
        {
          "output_type": "stream",
          "name": "stdout",
          "text": [
            "\n",
            " Confusion matrix using pandas \n",
            " \n",
            " Actual       cat  dog\n",
            "Predictions          \n",
            "cat            2    1\n",
            "dog            1    1\n"
          ]
        }
      ]
    }
  ]
}