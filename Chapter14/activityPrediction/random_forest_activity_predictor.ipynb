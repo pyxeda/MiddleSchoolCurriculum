{
  "nbformat": 4,
  "nbformat_minor": 0,
  "metadata": {
    "colab": {
      "name": "random_forest_activity_predictor.ipynb",
      "provenance": [],
      "collapsed_sections": []
    },
    "kernelspec": {
      "name": "python3",
      "display_name": "Python 3"
    },
    "language_info": {
      "name": "python"
    }
  },
  "cells": [
    {
      "cell_type": "markdown",
      "metadata": {
        "id": "8xLWQeV4UPh2"
      },
      "source": [
        "# **Problem: Random forest for human activity prediction.**\n",
        "\n",
        "Random forest for human activity prediction using UCI HAR Dataset.\n",
        "\n",
        "**Examples:**\n",
        "\n",
        "Change the variable 'url' by providing the google drive URL of the zip file, that you want to download.\n",
        "\n",
        "Eg:url = 'https://drive.google.com/file/d/1K7izykrla-qEuekekLayfGddml17calY/view?usp=sharing'\n",
        "\n",
        "Run all the cells. After executing the last cell, you will see the bthe accuracy score of the model as well.\n",
        "\n",
        "**Notes:**\n",
        "\n",
        "Following things are needed to be checked before running the program.\n",
        " 1. Sklearn module is needed to run this program in a notebook. \n",
        " 2. Check whether you have given the correct location of your zip file.\n",
        " 3. You should have access to the file in the Google Drive.\n"
      ]
    },
    {
      "cell_type": "markdown",
      "metadata": {
        "id": "V_xkWyuYVRl_"
      },
      "source": [
        "# **Import Modules**"
      ]
    },
    {
      "cell_type": "code",
      "metadata": {
        "id": "2iGN-VmnVVxC"
      },
      "source": [
        "# Import pandas\n",
        "import pandas as pd\n",
        "\n",
        "# Import RandomForestClassifier since we are using random forest for this problem\n",
        "from sklearn.ensemble import RandomForestClassifier\n",
        "\n",
        "# Import GridSearchCV\n",
        "from sklearn.model_selection import GridSearchCV\n",
        "\n",
        "# Import accuracy_score to calculate accuracy\n",
        "from sklearn.metrics import accuracy_score\n",
        "\n",
        "# Import gdown module to download files from google drive\n",
        "import gdown\n",
        "\n",
        "# Import zip file module to open the zip file\n",
        "from zipfile import ZipFile"
      ],
      "execution_count": 1,
      "outputs": []
    },
    {
      "cell_type": "markdown",
      "metadata": {
        "id": "mPLYAU7ZZIgv"
      },
      "source": [
        "# **Get the file location from google drive**"
      ]
    },
    {
      "cell_type": "code",
      "metadata": {
        "id": "zzNzKjELZOUV"
      },
      "source": [
        "# Please change the URL as needed (make sure you have the access to the file)\n",
        "\n",
        "url = 'https://drive.google.com/file/d/1z_zn7vv-Sk60fdoQuPN3h9wkyP8H-FQR/view?usp=sharing'\n",
        "\n",
        "# Derive the file id from the URL\n",
        "file_id = url.split('/')[-2]\n",
        "\n",
        "# Derive the download url of the the file\n",
        "download_url = 'https://drive.google.com/uc?id=' + file_id\n",
        "\n",
        "# Give the location you want to save\n",
        "file_location = 'UCI_HAR_Dataset.zip'\n",
        "\n",
        "# Download the file from drive\n",
        "gdown.download(download_url, file_location, quiet=False)"
      ],
      "execution_count": null,
      "outputs": []
    },
    {
      "cell_type": "markdown",
      "metadata": {
        "id": "9OKD1-GlaDDv"
      },
      "source": [
        "# **Unzip the zip dataset**"
      ]
    },
    {
      "cell_type": "code",
      "metadata": {
        "id": "nY7UjA3UaFFN"
      },
      "source": [
        "!unzip /content/UCI_HAR_Dataset.zip -d \"/content/unzipped_folder/\""
      ],
      "execution_count": null,
      "outputs": []
    },
    {
      "cell_type": "markdown",
      "metadata": {
        "id": "m25lZG87ZjJd"
      },
      "source": [
        "# **Begin Activity prediction operation**"
      ]
    },
    {
      "cell_type": "code",
      "metadata": {
        "id": "ShhkO__YZkrl"
      },
      "source": [
        "# Read train and test file using pandas\n",
        "xtrain=pd.read_table(r'/content/unzipped_folder/UCI HAR Dataset/train/X_train.txt',delim_whitespace=True,header=None)\n",
        "\n",
        "\n",
        "xtest=pd.read_table(r'/content/unzipped_folder/UCI HAR Dataset/test/X_test.txt',delim_whitespace=True,header=None)\n",
        "\n",
        "\n",
        "ytrain=pd.read_table(r'/content/unzipped_folder/UCI HAR Dataset/train/y_train.txt',header=None)\n",
        "\n",
        "\n",
        "ytest=pd.read_table(r'/content/unzipped_folder/UCI HAR Dataset/test/y_test.txt',header=None)\n",
        "\n",
        "# Return first 5 raws of the xtrain dataframe\n",
        "xtrain.head()\n",
        "\n",
        "# Initialize randomforest classifier\n",
        "classifier = RandomForestClassifier()\n",
        "\n",
        "# Define parameters for GridSearchCV method below\n",
        "parameters = {'n_estimators': [10, 100, 1000], 'max_depth': [3, 6, 9], 'max_features' : ['auto', 'log2']}\n",
        "\n",
        "# Derive the model\n",
        "model=GridSearchCV(classifier,parameters,n_jobs=-1,cv=4,scoring='accuracy',verbose=4)\n",
        "\n",
        "# Fit training data\n",
        "model.fit(xtrain.to_numpy(),ytrain.to_numpy().ravel().T)\n",
        "\n",
        "# Get the predictions\n",
        "ypred=model.predict(xtest)\n",
        "\n",
        "# Calculate the accuracy of the model\n",
        "accuracy=accuracy_score(ytest,ypred)\n",
        "\n",
        "# Print accuracy score\n",
        "print('Accuracy Score: '+ str(accuracy*100) + ' %')"
      ],
      "execution_count": null,
      "outputs": []
    }
  ]
}