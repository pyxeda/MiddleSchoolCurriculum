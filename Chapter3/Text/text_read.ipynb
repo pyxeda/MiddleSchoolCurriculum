{
  "nbformat": 4,
  "nbformat_minor": 0,
  "metadata": {
    "colab": {
      "name": "text_read.ipynb",
      "provenance": [],
      "collapsed_sections": []
    },
    "kernelspec": {
      "name": "python3",
      "display_name": "Python 3"
    },
    "language_info": {
      "name": "python"
    }
  },
  "cells": [
    {
      "cell_type": "markdown",
      "metadata": {
        "id": "VeP-0hSASJTV"
      },
      "source": [
        "# **Problem: Read a text file and print it.**\n",
        "\n",
        "Python program to read text data (like log files) in python and print sentence by sentence.\n",
        "\n",
        "**Examples:**\n",
        "\n",
        "Change the variable 'url' by providing the google drive URL of the text file, that you want to print sentence by sentence.\n",
        "\n",
        "Eg:url = 'https://drive.google.com/file/d/1ydfmj1HosSIUtT7LnJL05cfLsItgMqqo/view?usp=sharing'\n",
        "\n",
        "Run all the cells. After executing the last cell, you will see the text printed sentence by sentence.\n",
        "\n",
        "**Notes:**\n",
        "\n",
        "Following things are needed to be checked before running the program.\n",
        " 1.  nltk module is needed to be installed in the local machine to run this program.\n",
        " 2. Check whether you have given the correct location of your text file.\n",
        " 3. Check whether you file format is correct.\n",
        " 4. Check whether you have access to the file."
      ]
    },
    {
      "cell_type": "markdown",
      "metadata": {
        "id": "8t7pk5jxTzz6"
      },
      "source": [
        "# Import Modules"
      ]
    },
    {
      "cell_type": "code",
      "metadata": {
        "colab": {
          "base_uri": "https://localhost:8080/"
        },
        "id": "RNYGr7wETxyz",
        "outputId": "b6dca557-d584-4d64-b2e6-f307b5a5bef2"
      },
      "source": [
        "# Import nltk module for sentence identifying\n",
        "import nltk\n",
        "\n",
        "# Download 'punkt' module using nltk\n",
        "nltk.download('punkt')\n",
        "\n",
        "# Import gdown module to download files from google drive\n",
        "import gdown"
      ],
      "execution_count": 7,
      "outputs": [
        {
          "output_type": "stream",
          "name": "stdout",
          "text": [
            "[nltk_data] Downloading package punkt to /root/nltk_data...\n",
            "[nltk_data]   Unzipping tokenizers/punkt.zip.\n"
          ]
        }
      ]
    },
    {
      "cell_type": "markdown",
      "metadata": {
        "id": "Bj-pAxW_Ta68"
      },
      "source": [
        "# Get the file location from Google Drive"
      ]
    },
    {
      "cell_type": "code",
      "metadata": {
        "id": "Vyg2Pn7oTc6p"
      },
      "source": [
        "# Please change the URL as needed\n",
        "\n",
        "url = 'https://drive.google.com/file/d/1ydfmj1HosSIUtT7LnJL05cfLsItgMqqo/view?usp=sharing'\n",
        "\n",
        "# Derive the file id from the URL\n",
        "file_id = url.split('/')[-2]\n",
        "\n",
        "# Derive the download url of the the file\n",
        "download_url = 'https://drive.google.com/uc?id=' + file_id\n",
        "\n",
        "# Give the location you want to save it in your local machine\n",
        "file_location = r'about_us.txt'"
      ],
      "execution_count": 8,
      "outputs": []
    },
    {
      "cell_type": "markdown",
      "metadata": {
        "id": "CjbuqOIlTgto"
      },
      "source": [
        "# Download the text file and print it"
      ]
    },
    {
      "cell_type": "code",
      "metadata": {
        "colab": {
          "base_uri": "https://localhost:8080/"
        },
        "id": "4IBKMuIITkJJ",
        "outputId": "d8b63b07-8475-4ea4-b1e0-4ca6aa7f097e"
      },
      "source": [
        "# Download the file from drive to your local machine\n",
        "gdown.download(download_url, file_location, quiet=False)\n",
        "\n",
        "# Open the file in the specified location\n",
        "file = open(file_location, \"r\")\n",
        "# Read the file\n",
        "text = file.read()\n",
        "\n",
        "# Use sent_tokenize function to identify each sentance separately\n",
        "senetences = nltk.sent_tokenize(text)\n",
        "\n",
        "# Print each sentence\n",
        "for senetence in senetences:\n",
        "    print(senetence)"
      ],
      "execution_count": 9,
      "outputs": [
        {
          "output_type": "stream",
          "name": "stderr",
          "text": [
            "Downloading...\n",
            "From: https://drive.google.com/uc?id=1ydfmj1HosSIUtT7LnJL05cfLsItgMqqo\n",
            "To: /content/about_us.txt\n",
            "100%|██████████| 452/452 [00:00<00:00, 378kB/s]"
          ]
        },
        {
          "output_type": "stream",
          "name": "stdout",
          "text": [
            "Our mission is to empower kids from elementary, middle, and high school to learn AI and realize their passions through creative applications of their learnings.\n",
            "We are a group of AI and software experts with PhDs from top-tier schools and many years of real-world experience.\n",
            "We created AIClub to help the next generation of kids improve their AI Literacy and imagine the future with technology.\n",
            "Curious why kids should learn AI?\n",
            "Check out AI for Kids.\n"
          ]
        },
        {
          "output_type": "stream",
          "name": "stderr",
          "text": [
            "\n"
          ]
        }
      ]
    }
  ]
}