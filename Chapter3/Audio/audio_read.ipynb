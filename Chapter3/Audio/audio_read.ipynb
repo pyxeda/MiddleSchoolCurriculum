{
  "nbformat": 4,
  "nbformat_minor": 0,
  "metadata": {
    "colab": {
      "name": "audio_read.ipynb",
      "provenance": [],
      "collapsed_sections": []
    },
    "kernelspec": {
      "name": "python3",
      "display_name": "Python 3"
    },
    "language_info": {
      "name": "python"
    }
  },
  "cells": [
    {
      "cell_type": "markdown",
      "metadata": {
        "id": "bv6kSwbqD8Qy"
      },
      "source": [
        "# **Problem: Read an audio file and play it.**\n",
        "\n",
        "Python program to read an audio file in a specific location and play it.\n",
        "\n",
        "**Examples:**\n",
        "\n",
        "Change the variable 'url' by providing the google drive URL of the audio, that you want to play.\n",
        "\n",
        "Eg:url = 'https://drive.google.com/file/d/1K7izykrla-qEuekekLayfGddml17calY/view?usp=sharing'\n",
        "\n",
        "Run all the cells. After executing the last cell, you will hear that the audio is playing.\n",
        "\n",
        "**Notes:**\n",
        "\n",
        "Following things are needed to be checked before running the program.\n",
        " 1. IPython module is needed to run this program in a notebook. \n",
        " 2. Check whether you have given the correct location of your audio file.\n",
        " 3. Your file should be a audio file.\n",
        " 4. You should have access to the file in the Google Drive.\n"
      ]
    },
    {
      "cell_type": "markdown",
      "metadata": {
        "id": "PTrLXTlRHE_D"
      },
      "source": [
        "# **Import Modules**"
      ]
    },
    {
      "cell_type": "code",
      "metadata": {
        "id": "KcNkixRfHG3S"
      },
      "source": [
        "# Import IPython module to play the audio in the notebook\n",
        "import IPython\n",
        "\n",
        "# Import gdown module to download files from google drive\n",
        "import gdown"
      ],
      "execution_count": 13,
      "outputs": []
    },
    {
      "cell_type": "markdown",
      "metadata": {
        "id": "1Etu0oLJHTps"
      },
      "source": [
        "# **Get the file location from google drive**"
      ]
    },
    {
      "cell_type": "code",
      "metadata": {
        "id": "jSquyeEhHUdW"
      },
      "source": [
        "# Please change the URL as needed (make sure you have the access to the file)\n",
        "\n",
        "url = 'https://drive.google.com/file/d/1K7izykrla-qEuekekLayfGddml17calY/view?usp=sharing'\n",
        "\n",
        "# Derive the file id from the URL\n",
        "file_id = url.split('/')[-2]\n",
        "\n",
        "# Derive the download url of the the file\n",
        "download_url = 'https://drive.google.com/uc?id=' + file_id\n",
        "\n",
        "# Give the location you want to save it in your local machine\n",
        "file_location = r'children_1.mp3'"
      ],
      "execution_count": 14,
      "outputs": []
    },
    {
      "cell_type": "markdown",
      "metadata": {
        "id": "xofRff_7HX6C"
      },
      "source": [
        "# **Download the audio file and play it**"
      ]
    },
    {
      "cell_type": "code",
      "metadata": {
        "id": "ZPkRpyk9Hf7V"
      },
      "source": [
        "# Download the file from drive to your local machine\n",
        "gdown.download(download_url, file_location, quiet=False)\n",
        "\n",
        "# Play the downloaded audio file\n",
        "IPython.display.Audio(file_location, autoplay=True)\n"
      ],
      "execution_count": null,
      "outputs": []
    }
  ]
}