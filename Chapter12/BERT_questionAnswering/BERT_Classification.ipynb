{
  "nbformat": 4,
  "nbformat_minor": 0,
  "metadata": {
    "colab": {
      "name": "BERT_Classification.ipynb",
      "provenance": [],
      "collapsed_sections": []
    },
    "kernelspec": {
      "name": "python3",
      "display_name": "Python 3"
    },
    "accelerator": "GPU"
  },
  "cells": [
    {
      "cell_type": "markdown",
      "metadata": {
        "id": "B8X5gjllHbOY"
      },
      "source": [
        "# **Problem: Predict sentiment(Postive/Negative) using BERT classification**\n",
        "\n",
        "Python program predict sentiment(Postive/Negative) on a movie review by using IMDB Reviewes dataset.\n",
        "\n",
        "Run all the cells. After executing the last cell, you will see the predicted sentiment on the input sentences.\n",
        "\n",
        "**Notes:**\n",
        "\n",
        "Following things are needed to be checked before running the program.\n",
        " \n",
        " 1.transformers module is needed to be installed.\n",
        "\n",
        " 2.shutil module is needed to be installed.\n",
        "\n",
        " 3.tensorflow module is needed to be installed.\n"
      ]
    },
    {
      "cell_type": "markdown",
      "metadata": {
        "id": "Upv_o2lfdgeu"
      },
      "source": [
        "# **Import Modules**"
      ]
    },
    {
      "cell_type": "code",
      "metadata": {
        "id": "w18HBP1nmRix"
      },
      "source": [
        "# Import pre trained BertTokenizer and sequence classifier\n",
        "from transformers import BertTokenizer, TFBertForSequenceClassification\n",
        "\n",
        "# Import inputexample and inputfeatures\n",
        "from transformers import InputExample, InputFeatures\n",
        "\n",
        "# Import os module\n",
        "import os\n",
        "\n",
        "# The shutil module gives high-level operations on files and collections of files.\n",
        "import shutil\n",
        "\n",
        "# Import tensorflow module\n",
        "import tensorflow as tf\n",
        "\n",
        "# Import pandas\n",
        "import pandas as pd"
      ],
      "execution_count": 23,
      "outputs": []
    },
    {
      "cell_type": "markdown",
      "metadata": {
        "id": "53IdGRvV_tsd"
      },
      "source": [
        "# **Define model and tokenizer**"
      ]
    },
    {
      "cell_type": "code",
      "metadata": {
        "id": "7GKefR5PdXX5"
      },
      "source": [
        "# Model by the Sequence Classifier\n",
        "model = TFBertForSequenceClassification.from_pretrained(\"bert-base-uncased\")\n",
        "\n",
        "# Derive tokenizer with BERT Tokenizer.\n",
        "tokenizer = BertTokenizer.from_pretrained(\"bert-base-uncased\")"
      ],
      "execution_count": null,
      "outputs": []
    },
    {
      "cell_type": "code",
      "metadata": {
        "id": "RU2fMSLVtO_k"
      },
      "source": [
        "# Get model summary\n",
        "model.summary()"
      ],
      "execution_count": null,
      "outputs": []
    },
    {
      "cell_type": "markdown",
      "metadata": {
        "id": "rm-maFUtADQt"
      },
      "source": [
        "# **Download the dataset**"
      ]
    },
    {
      "cell_type": "code",
      "metadata": {
        "id": "LAkEX1pJnIZK"
      },
      "source": [
        "URL = \"https://ai.stanford.edu/~amaas/data/sentiment/aclImdb_v1.tar.gz\"\n",
        "\n",
        "dataset = tf.keras.utils.get_file(fname=\"aclImdb_v1.tar.gz\", \n",
        "                                  origin=URL,\n",
        "                                  untar=True,\n",
        "                                  cache_dir='.',\n",
        "                                  cache_subdir='')"
      ],
      "execution_count": null,
      "outputs": []
    },
    {
      "cell_type": "markdown",
      "metadata": {
        "id": "a3aQC_gsAUAp"
      },
      "source": [
        "# **Organize folder structure**"
      ]
    },
    {
      "cell_type": "code",
      "metadata": {
        "id": "2kgCTCoTnKEy"
      },
      "source": [
        "# Create  the main directory path\n",
        "main_dir = os.path.join(os.path.dirname(dataset), 'aclImdb')\n",
        "\n",
        "# Create the sub directory path (\"/aclImdb/train\")\n",
        "train_dir = os.path.join(main_dir, 'train')\n",
        "\n",
        "# Remove unsup folder\n",
        "remove_dir = os.path.join(train_dir, 'unsup')\n",
        "shutil.rmtree(remove_dir)"
      ],
      "execution_count": 41,
      "outputs": []
    },
    {
      "cell_type": "markdown",
      "metadata": {
        "id": "jDYZzAqDAaYs"
      },
      "source": [
        "# **Create train and test datasets**"
      ]
    },
    {
      "cell_type": "code",
      "metadata": {
        "id": "KDw54Tc7zQW8"
      },
      "source": [
        "# Process entire data in a single batch\n",
        "# Create a training dataset and a validation \n",
        "# Dataset from the \"aclImdb/train\" directory with a 80/20 split.\n",
        "train = tf.keras.preprocessing.text_dataset_from_directory(\n",
        "    'aclImdb/train', batch_size=25000, validation_split=0.2, \n",
        "    subset='training', seed=123)\n",
        "test = tf.keras.preprocessing.text_dataset_from_directory(\n",
        "    'aclImdb/train', batch_size=25000, validation_split=0.2, \n",
        "    subset='validation', seed=123)"
      ],
      "execution_count": null,
      "outputs": []
    },
    {
      "cell_type": "markdown",
      "metadata": {
        "id": "fz_5g9CEAnsY"
      },
      "source": [
        "# **Convert train and test datasets to Pandas dataframe**"
      ]
    },
    {
      "cell_type": "code",
      "metadata": {
        "id": "2mw96ITv0Avj"
      },
      "source": [
        "for i in train.take(1):\n",
        "  train_feat = i[0].numpy()\n",
        "  train_lab = i[1].numpy()\n",
        "\n",
        "train = pd.DataFrame([train_feat, train_lab]).T\n",
        "train.columns = ['DATA_COLUMN', 'LABEL_COLUMN']\n",
        "train['DATA_COLUMN'] = train['DATA_COLUMN'].str.decode(\"utf-8\")\n",
        "train.head()"
      ],
      "execution_count": null,
      "outputs": []
    },
    {
      "cell_type": "code",
      "metadata": {
        "id": "rdWCS2ei1hJC"
      },
      "source": [
        "for j in test.take(1):\n",
        "  test_feat = j[0].numpy()\n",
        "  test_lab = j[1].numpy()\n",
        "\n",
        "test = pd.DataFrame([test_feat, test_lab]).T\n",
        "test.columns = ['DATA_COLUMN', 'LABEL_COLUMN']\n",
        "test['DATA_COLUMN'] = test['DATA_COLUMN'].str.decode(\"utf-8\")\n",
        "test.head()"
      ],
      "execution_count": null,
      "outputs": []
    },
    {
      "cell_type": "markdown",
      "metadata": {
        "id": "NE5GUjqVBQrN"
      },
      "source": [
        "# **Format data in order for the TFBertForSequnceClassification model to identify.**\n",
        "\n",
        "Inputs that it takes:\n",
        "\n",
        "— **input ids**: Input ids are an id number assigned to each word based on the existing BERT vocabularies. \n",
        "\n",
        "— **token type ids**: Token type ids are required to differentiate between actual words and paddings. \n",
        "\n",
        "— **attention masks**: Help to recognise which sentence does the word belong to."
      ]
    },
    {
      "cell_type": "markdown",
      "metadata": {
        "id": "oNEfobF1DU93"
      },
      "source": [
        "# **Get train and test datasets and convert each row into an InputExample object**"
      ]
    },
    {
      "cell_type": "code",
      "metadata": {
        "id": "QQMYwGY3mbMs"
      },
      "source": [
        "def convert_data_to_examples(train, test, DATA_COLUMN, LABEL_COLUMN): \n",
        "  train_InputExamples = train.apply(lambda x: InputExample(guid=None,\n",
        "                                                          text_a = x[DATA_COLUMN], \n",
        "                                                          text_b = None,\n",
        "                                                          label = x[LABEL_COLUMN]), axis = 1)\n",
        "\n",
        "  validation_InputExamples = test.apply(lambda x: InputExample(guid=None,\n",
        "                                                          text_a = x[DATA_COLUMN], \n",
        "                                                          text_b = None,\n",
        "                                                          label = x[LABEL_COLUMN]), axis = 1)\n",
        "  \n",
        "  return train_InputExamples, validation_InputExamples\n",
        "\n",
        "  train_InputExamples, validation_InputExamples = convert_data_to_examples(train, \n",
        "                                                                           test, \n",
        "                                                                           'DATA_COLUMN', \n",
        "                                                                           'LABEL_COLUMN')\n"
      ],
      "execution_count": 45,
      "outputs": []
    },
    {
      "cell_type": "markdown",
      "metadata": {
        "id": "b_sq7gi_CD-M"
      },
      "source": [
        "1.**Tokenize the InputExample objects**\n",
        "\n",
        "2.**Create the required input format with the tokenized objects**\n",
        "\n",
        "3.**Create an input dataset that we can feed to the model**"
      ]
    },
    {
      "cell_type": "code",
      "metadata": {
        "id": "76f98t6HDLEb"
      },
      "source": [
        "def convert_examples_to_tf_dataset(examples, tokenizer, max_length=128):\n",
        "    features = []\n",
        "\n",
        "    for e in examples:\n",
        "        input_dict = tokenizer.encode_plus(\n",
        "            e.text_a,\n",
        "            add_special_tokens=True,\n",
        "            max_length=max_length,\n",
        "            return_token_type_ids=True,\n",
        "            return_attention_mask=True,\n",
        "            pad_to_max_length=True,\n",
        "            truncation=True\n",
        "        )\n",
        "\n",
        "        input_ids, token_type_ids, attention_mask = (input_dict[\"input_ids\"],\n",
        "            input_dict[\"token_type_ids\"], input_dict['attention_mask'])\n",
        "\n",
        "        features.append(\n",
        "            InputFeatures(\n",
        "                input_ids=input_ids, attention_mask=attention_mask, token_type_ids=token_type_ids, label=e.label\n",
        "            )\n",
        "        )\n",
        "\n",
        "    def gen():\n",
        "        for f in features:\n",
        "            yield (\n",
        "                {\n",
        "                    \"input_ids\": f.input_ids,\n",
        "                    \"attention_mask\": f.attention_mask,\n",
        "                    \"token_type_ids\": f.token_type_ids,\n",
        "                },\n",
        "                f.label,\n",
        "            )\n",
        "\n",
        "    return tf.data.Dataset.from_generator(\n",
        "        gen,\n",
        "        ({\"input_ids\": tf.int32, \"attention_mask\": tf.int32, \"token_type_ids\": tf.int32}, tf.int64),\n",
        "        (\n",
        "            {\n",
        "                \"input_ids\": tf.TensorShape([None]),\n",
        "                \"attention_mask\": tf.TensorShape([None]),\n",
        "                \"token_type_ids\": tf.TensorShape([None]),\n",
        "            },\n",
        "            tf.TensorShape([]),\n",
        "        ),\n",
        "    )\n",
        "\n",
        "# Define data coloumn and label coloumn\n",
        "DATA_COLUMN = 'DATA_COLUMN'\n",
        "LABEL_COLUMN = 'LABEL_COLUMN'"
      ],
      "execution_count": 46,
      "outputs": []
    },
    {
      "cell_type": "code",
      "metadata": {
        "id": "embk0_1UqBLi"
      },
      "source": [
        "# Call the above created functions with the following inputs\n",
        "train_InputExamples, validation_InputExamples = convert_data_to_examples(train, test, DATA_COLUMN, LABEL_COLUMN)\n",
        "\n",
        "train_data = convert_examples_to_tf_dataset(list(train_InputExamples), tokenizer)\n",
        "train_data = train_data.shuffle(100).batch(32).repeat(2)\n",
        "\n",
        "validation_data = convert_examples_to_tf_dataset(list(validation_InputExamples), tokenizer)\n",
        "validation_data = validation_data.batch(32)"
      ],
      "execution_count": null,
      "outputs": []
    },
    {
      "cell_type": "markdown",
      "metadata": {
        "id": "oiwNd9wYD8QZ"
      },
      "source": [
        "# **Compile the model**"
      ]
    },
    {
      "cell_type": "code",
      "metadata": {
        "id": "BPiVv1txqfUF"
      },
      "source": [
        "# Used Adam as the optimizer, \n",
        "# Used CategoricalCrossentropy as the loss function\n",
        "# Used SparseCategoricalAccuracy as the accuracy metric\n",
        "model.compile(optimizer=tf.keras.optimizers.Adam(learning_rate=3e-5, epsilon=1e-08, clipnorm=1.0), \n",
        "              loss=tf.keras.losses.SparseCategoricalCrossentropy(from_logits=True), \n",
        "              metrics=[tf.keras.metrics.SparseCategoricalAccuracy('accuracy')])\n",
        "\n",
        "# Fit the training data\n",
        "model.fit(train_data, \n",
        "          epochs=2, \n",
        "          validation_data=validation_data, steps_per_epoch=2)"
      ],
      "execution_count": null,
      "outputs": []
    },
    {
      "cell_type": "markdown",
      "metadata": {
        "id": "QLEoUZgPEGsz"
      },
      "source": [
        "# **Define input sentences**"
      ]
    },
    {
      "cell_type": "code",
      "metadata": {
        "id": "_Abw_NhY_y17"
      },
      "source": [
        "# Define two sentences which will be used as an input\n",
        "# First sentence is positive and the second one is negative\n",
        "pred_sentences = ['This was an awesome movie. I watch it twice my time watching this beautiful movie if I have known it was this good',\n",
        "                  'One of the worst movies of all time. I cannot believe I wasted two hours of my life for this movie']"
      ],
      "execution_count": 49,
      "outputs": []
    },
    {
      "cell_type": "markdown",
      "metadata": {
        "id": "YMlMuvyCEP7E"
      },
      "source": [
        "# **Tokenize the reviews and predict the output**"
      ]
    },
    {
      "cell_type": "code",
      "metadata": {
        "id": "8plT1XHRouv6"
      },
      "source": [
        "input_sentences = pred_sentences\n",
        "\n",
        "tf_batch = tokenizer(input_sentences, max_length=128, padding=True, truncation=True, return_tensors='tf')\n",
        "tf_outputs = model(tf_batch)\n",
        "tf_predictions = tf.nn.softmax(tf_outputs[0], axis=-1)\n",
        "labels = ['Negative','Positive']\n",
        "label = tf.argmax(tf_predictions, axis=1)\n",
        "label = label.numpy()\n",
        "for i in range(len(input_sentences)):\n",
        "  print(input_sentences[i], \": \\n\", labels[label[i]])"
      ],
      "execution_count": null,
      "outputs": []
    },
    {
      "cell_type": "markdown",
      "metadata": {
        "id": "md1KVgw_HQjS"
      },
      "source": [
        ""
      ]
    }
  ]
}