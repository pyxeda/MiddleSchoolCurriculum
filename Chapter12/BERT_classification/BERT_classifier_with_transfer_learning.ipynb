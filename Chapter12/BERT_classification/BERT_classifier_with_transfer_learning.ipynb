{
  "nbformat": 4,
  "nbformat_minor": 0,
  "metadata": {
    "colab": {
      "name": "BERT_classifier_with_transfer_learning.ipynb",
      "provenance": [],
      "collapsed_sections": []
    },
    "kernelspec": {
      "name": "python3",
      "display_name": "Python 3"
    },
    "language_info": {
      "name": "python"
    }
  },
  "cells": [
    {
      "cell_type": "markdown",
      "metadata": {
        "id": "b1ej6UMvmS85"
      },
      "source": [
        "# **Problem: Create a BERT model to answer questions and summarize.**\n",
        "\n",
        "Python program which creates a BERT model to answer questions and summarize.\n",
        "\n",
        "Run all the cells. After executing the last cell, you will get the answer and the summarized text.\n",
        "\n",
        "**Notes:**\n",
        "\n",
        "Following things are needed to be checked before running the program.\n",
        " 1. transformers module is needed to run this program in a notebook. "
      ]
    },
    {
      "cell_type": "markdown",
      "metadata": {
        "id": "oWQQaoyfoFHv"
      },
      "source": [
        "# **Import Modules**"
      ]
    },
    {
      "cell_type": "code",
      "metadata": {
        "id": "Q1KG9DzAoLLn"
      },
      "source": [
        "# Import the transformers pipelines\n",
        "from transformers import pipeline\n",
        "\n",
        "summarizer = pipeline(\"summarization\")\n",
        "nlp = pipeline(\"question-answering\")"
      ],
      "execution_count": null,
      "outputs": []
    },
    {
      "cell_type": "markdown",
      "metadata": {
        "id": "YVKxFe7voS4w"
      },
      "source": [
        "# **Sample text and question**"
      ]
    },
    {
      "cell_type": "code",
      "metadata": {
        "id": "kiyQ9sE3orDi"
      },
      "source": [
        "# Open and read the article\n",
        "context = r\"The four largest cities in the Netherlands are Amsterdam, Rotterdam, The Hague and Utrecht.[17] Amsterdam is the country's most populous city and nominal capital,[18] while The Hague holds the seat of the States General, Cabinet and Supreme Court.[19] The Port of Rotterdam is the busiest seaport in Europe, and the busiest in any country outside East Asia and Southeast Asia, behind only China and Singapore.\"\n",
        "\n",
        "# Question to ask\n",
        "question = \"What is the capital of the Netherlands?\""
      ],
      "execution_count": 3,
      "outputs": []
    },
    {
      "cell_type": "markdown",
      "metadata": {
        "id": "ZhgLLPw9oucv"
      },
      "source": [
        "# **Get Answer and Summarized text**"
      ]
    },
    {
      "cell_type": "code",
      "metadata": {
        "id": "Gi5a_V7voxab"
      },
      "source": [
        "# Get the answer for the question\n",
        "result = nlp(question=question, context=context)\n",
        "print('Answer :', result['answer'])\n",
        "\n",
        "# Get the summarized text\n",
        "print(summarizer(context, max_length=51, min_length=30, do_sample=False))"
      ],
      "execution_count": null,
      "outputs": []
    }
  ]
}