{
  "nbformat": 4,
  "nbformat_minor": 0,
  "metadata": {
    "colab": {
      "name": "linear_regression.ipynb",
      "provenance": [],
      "collapsed_sections": []
    },
    "kernelspec": {
      "name": "python3",
      "display_name": "Python 3"
    },
    "language_info": {
      "name": "python"
    }
  },
  "cells": [
    {
      "cell_type": "markdown",
      "metadata": {
        "id": "zdSPpHS6DfLJ"
      },
      "source": [
        "# **Problem: Create a linear regression model (using scikit learn) on the 'average' dataset**\n",
        "\n",
        "Python program to create a linear regression model (using scikit learn) on the 'average' dataset. At the end we will calculate accuracy as well.\n",
        "\n",
        "Run all the cells. \n",
        "\n",
        "**Notes:**\n",
        "\n",
        "Following things are needed to be checked before running the program.\n",
        "\n",
        "1. sklearn module is needed to be installed in the local machine to run this program.\n",
        "2. pandas module is needed to be installed in the local machine, to read CSV.\n",
        "3. gdown module is needed to be installed in the local machine, to download the CSV file from the google drive.\n",
        "4. Check whether you have given the correct file location of the csv file.\n",
        "5.  Check whether you have access to the file.\n",
        "6. Check whether the file format is correct. "
      ]
    },
    {
      "cell_type": "markdown",
      "metadata": {
        "id": "DA4nI7dZFzP6"
      },
      "source": [
        "# Import Modules"
      ]
    },
    {
      "cell_type": "code",
      "metadata": {
        "id": "TxqOh6onF6T7"
      },
      "source": [
        "# Import pandas to read csv\n",
        "import pandas as pd\n",
        "\n",
        "# Import train_test_split to split data as test and train\n",
        "from sklearn.model_selection import train_test_split\n",
        "\n",
        "# Import LinearRegression class to get linear regression object\n",
        "from sklearn.linear_model import LinearRegression\n",
        "\n",
        "# Import r2_score function to calculate accuracy\n",
        "from sklearn.metrics import r2_score\n",
        "\n",
        "# Import gdown module to download files from the google drive\n",
        "import gdown"
      ],
      "execution_count": 1,
      "outputs": []
    },
    {
      "cell_type": "markdown",
      "metadata": {
        "id": "syh-p1baF-RR"
      },
      "source": [
        "# Get the file from the google drive."
      ]
    },
    {
      "cell_type": "code",
      "metadata": {
        "colab": {
          "base_uri": "https://localhost:8080/",
          "height": 102
        },
        "id": "XrMIXhr0GGe7",
        "outputId": "f2065428-3b39-4d64-eedc-26ad92264446"
      },
      "source": [
        "# Please use the same dataset\n",
        "url = 'https://drive.google.com/file/d/1Hxksp6KSjoex0wdER032QypLUYmdLNeg/view?usp=sharing'\n",
        "\n",
        "# Derive the file id from the url\n",
        "file_id = url.split('/')[-2]\n",
        "\n",
        "# Derive the download url of the file\n",
        "download_url = 'https://drive.google.com/uc?id=' + file_id\n",
        "\n",
        "# Give the location you want to save it in your local machine\n",
        "file_location = 'average.csv'\n",
        "\n",
        "# Download the file from drive to your local machine\n",
        "gdown.download(download_url, file_location, quiet=False)"
      ],
      "execution_count": 3,
      "outputs": [
        {
          "output_type": "stream",
          "name": "stderr",
          "text": [
            "Downloading...\n",
            "From: https://drive.google.com/uc?id=1Hxksp6KSjoex0wdER032QypLUYmdLNeg\n",
            "To: /content/average.csv\n",
            "100%|██████████| 301k/301k [00:00<00:00, 66.3MB/s]\n"
          ]
        },
        {
          "output_type": "execute_result",
          "data": {
            "application/vnd.google.colaboratory.intrinsic+json": {
              "type": "string"
            },
            "text/plain": [
              "'average.csv'"
            ]
          },
          "metadata": {},
          "execution_count": 3
        }
      ]
    },
    {
      "cell_type": "markdown",
      "metadata": {
        "id": "GMzSQUmdGHni"
      },
      "source": [
        "# Create the linear regression model"
      ]
    },
    {
      "cell_type": "code",
      "metadata": {
        "colab": {
          "base_uri": "https://localhost:8080/"
        },
        "id": "PxqM2frzGLck",
        "outputId": "64473db5-e362-4370-fb7e-edab98205f09"
      },
      "source": [
        "# Read the CSV\n",
        "average_dataset = pd.read_csv(file_location)\n",
        "\n",
        "# Get independent variable columns\n",
        "X = average_dataset[['A', 'B', 'C', 'D']]\n",
        "\n",
        "# Get dependent variable columns\n",
        "y = average_dataset['AVERAGE']\n",
        "\n",
        "# Split dataset into train and test\n",
        "X_train, X_test, y_train, y_test = train_test_split(X, y, test_size=0.2, random_state=0)\n",
        "\n",
        "# Use LinearRegression class provided by sklearn\n",
        "regressor = LinearRegression()\n",
        "\n",
        "# Train the model\n",
        "regressor.fit(X_train, y_train)\n",
        "\n",
        "# Predict using test values\n",
        "y_pred = regressor.predict(X_test)\n",
        "\n",
        "# Get actual values and predicted values into a table\n",
        "predicted_results = pd.DataFrame({'Actual': y_test, 'Predicted': y_pred})\n",
        "print(predicted_results)"
      ],
      "execution_count": 4,
      "outputs": [
        {
          "output_type": "stream",
          "name": "stdout",
          "text": [
            "      Actual  Predicted\n",
            "9394  541.00     541.00\n",
            "898   554.50     554.50\n",
            "2398  509.75     509.75\n",
            "5906  607.00     607.00\n",
            "2343  595.50     595.50\n",
            "...      ...        ...\n",
            "1037  490.00     490.00\n",
            "2899  761.75     761.75\n",
            "9549  313.25     313.25\n",
            "2740  639.25     639.25\n",
            "6690  407.50     407.50\n",
            "\n",
            "[2000 rows x 2 columns]\n"
          ]
        }
      ]
    },
    {
      "cell_type": "markdown",
      "metadata": {
        "id": "Rsdk3jpoGPXg"
      },
      "source": [
        "# Calculate the accuracy"
      ]
    },
    {
      "cell_type": "code",
      "metadata": {
        "colab": {
          "base_uri": "https://localhost:8080/"
        },
        "id": "rFV_iGB6GS_a",
        "outputId": "83a7be3f-c838-4b00-b9db-0c0db81fa822"
      },
      "source": [
        "# Calculate accuracy using 'r2_score'\n",
        "accuracy = r2_score(y_test, y_pred)\n",
        "print('Accuracy of your model :',accuracy)"
      ],
      "execution_count": 5,
      "outputs": [
        {
          "output_type": "stream",
          "name": "stdout",
          "text": [
            "Accuracy of your model : 1.0\n"
          ]
        }
      ]
    }
  ]
}